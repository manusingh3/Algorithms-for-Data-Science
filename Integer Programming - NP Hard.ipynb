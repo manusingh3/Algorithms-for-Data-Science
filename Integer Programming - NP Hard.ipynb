{
 "cells": [
  {
   "cell_type": "markdown",
   "metadata": {},
   "source": [
    "# NP-Hard Problems\n",
    "\n",
    "The purpose of this exercise is to familiarize yourself with different approaches to solving NP-hard problems in practice, especially via integer programming.\n",
    "\n",
    "I will use [NetworkX](https://networkx.github.io/) to manipulate graphs and [PuLP](http://pythonhosted.org/PuLP/) to solve linear and integer programs."
   ]
  },
  {
   "cell_type": "code",
   "execution_count": 1,
   "metadata": {
    "collapsed": false
   },
   "outputs": [],
   "source": [
    "import networkx as nx\n",
    "import pulp"
   ]
  },
  {
   "cell_type": "markdown",
   "metadata": {},
   "source": [
    "We will use two graph datasets for this assignment, both available in [GML](https://en.wikipedia.org/wiki/Graph_Modelling_Language) format. The first is a well-known graph of the social network of a karate club [1]. The second is a network representing the western states power grid in the US [2]."
   ]
  },
  {
   "cell_type": "code",
   "execution_count": 2,
   "metadata": {
    "collapsed": false
   },
   "outputs": [],
   "source": [
    "karate = nx.read_gml('karate.gml')\n",
    "power = nx.read_gml('power.gml')"
   ]
  },
  {
   "cell_type": "markdown",
   "metadata": {},
   "source": [
    "[1] W. Zachary, An information flow model for conflict and fission in small groups, Journal of Anthropological Research 33, 452-473 (1977). \n",
    "\n",
    "[2] D. J. Watts and S. H. Strogatz, Collective dynamics of 'small world' networks, Nature 393, 440-442 (1998). "
   ]
  },
  {
   "cell_type": "markdown",
   "metadata": {},
   "source": [
    "## Independent Set\n",
    "\n",
    "Recall that an *independent set* in a graph is a set of nodes such that no two nodes are adjacent (connected by an edge). Finding the maximum size of an independent set in a graph is an NP-hard problem, so there is no known polynomial-time algorithm to solve it."
   ]
  },
  {
   "cell_type": "markdown",
   "metadata": {},
   "source": [
    "### Problem 1\n",
    "\n",
    "Recall the integer programming formulation for independent set given in class. Implement a function that solves the integer program given a graph as input. (The graph is denoted $G = (V, E)$. For this problem, you should use a binary variable $x_i \\in \\{0,1\\}$ for each node $i \\in N$, and you shouldn't need any other variables."
   ]
  },
  {
   "cell_type": "code",
   "execution_count": 3,
   "metadata": {
    "collapsed": false
   },
   "outputs": [],
   "source": [
    "def independent_set_ip(graph):\n",
    "    prob = pulp.LpProblem(\"Min Cost Flow\", pulp.LpMaximize)\n",
    "    \n",
    "    nodes = [n for n in graph.nodes()]\n",
    "    node_vars = pulp.LpVariable.dicts(\"node\", nodes, 0, 1, pulp.LpInteger)\n",
    "    \n",
    "    prob += pulp.lpSum(node_vars)\n",
    "    \n",
    "    for e in graph.edges():\n",
    "        prob += node_vars[e[0]] + node_vars[e[1]] <= 1\n",
    "        \n",
    "    prob.solve()\n",
    "    \n",
    "    return [(var, pulp.value(node_vars[var])) for var in node_vars]"
   ]
  },
  {
   "cell_type": "markdown",
   "metadata": {},
   "source": [
    "The following code outputs the size of the sets computed by your function."
   ]
  },
  {
   "cell_type": "code",
   "execution_count": 4,
   "metadata": {
    "collapsed": false
   },
   "outputs": [],
   "source": [
    "def set_weight(solution):\n",
    "    return sum(value for (node, value) in solution)"
   ]
  },
  {
   "cell_type": "code",
   "execution_count": 5,
   "metadata": {
    "collapsed": false
   },
   "outputs": [
    {
     "name": "stdout",
     "output_type": "stream",
     "text": [
      "Size of karate set =  20.0\n",
      "Size of power set =  2738.0\n"
     ]
    }
   ],
   "source": [
    "karate_ind_set = independent_set_ip(karate)\n",
    "print \"Size of karate set = \", set_weight(karate_ind_set)\n",
    "power_ind_set = independent_set_ip(power)\n",
    "print \"Size of power set = \", set_weight(power_ind_set)"
   ]
  },
  {
   "cell_type": "markdown",
   "metadata": {},
   "source": [
    "### Problem 2\n",
    "\n",
    "Take the *linear programming relaxation* of your integer program and implement a function to solve it. This simply means that in your integer program, you should replace each constraint $x_i \\in \\{0,1\\}$ with $0 \\leq x_i \\leq 1$ (see also your slides from 11/19). "
   ]
  },
  {
   "cell_type": "code",
   "execution_count": 6,
   "metadata": {
    "collapsed": false
   },
   "outputs": [],
   "source": [
    "def independent_set_lp(graph):\n",
    "    prob = pulp.LpProblem(\"Min Cost Flow\", pulp.LpMaximize)\n",
    "    \n",
    "    nodes = [n for n in graph.nodes()]\n",
    "    node_vars = pulp.LpVariable.dicts(\"node\", nodes, 0, 1)\n",
    "    \n",
    "    prob += pulp.lpSum(node_vars)\n",
    "    \n",
    "    for e in graph.edges():\n",
    "        prob += node_vars[e[0]] + node_vars[e[1]] <= 1\n",
    "        \n",
    "    prob.solve()\n",
    "    \n",
    "    return [(var, pulp.value(node_vars[var])) for var in node_vars]"
   ]
  },
  {
   "cell_type": "markdown",
   "metadata": {},
   "source": [
    "Let's see how the LP solutions compare to those of the IP."
   ]
  },
  {
   "cell_type": "code",
   "execution_count": 7,
   "metadata": {
    "collapsed": false
   },
   "outputs": [
    {
     "name": "stdout",
     "output_type": "stream",
     "text": [
      "Value of karate set =  20.5\n",
      "Value of power set =  2758.0\n"
     ]
    }
   ],
   "source": [
    "karate_ind_set_relax = independent_set_lp(karate)\n",
    "print \"Value of karate set = \", set_weight(karate_ind_set_relax)\n",
    "power_ind_set_relax = independent_set_lp(power)\n",
    "print \"Value of power set = \", set_weight(power_ind_set_relax)"
   ]
  },
  {
   "cell_type": "markdown",
   "metadata": {},
   "source": [
    "A heuristic way to convert a fractional solution to an independent set is as follows. For each node $i$, include the node in the set if $x_i > 1/2$, and discard it otherwise. This will yield a set of $a$ nodes which have $b$ edges between them. If we remove at most one node for every edge, then we obtain an independent set of size at least $\\max\\{a - b, 0\\}$."
   ]
  },
  {
   "cell_type": "markdown",
   "metadata": {},
   "source": [
    "Implement this rounding procedure."
   ]
  },
  {
   "cell_type": "code",
   "execution_count": 8,
   "metadata": {
    "collapsed": false
   },
   "outputs": [],
   "source": [
    "def round_solution(solution, graph):\n",
    "    for n in solution:\n",
    "        if n[1] <= 0.5:\n",
    "            graph.remove_node(n[0])\n",
    "    \n",
    "    return graph"
   ]
  },
  {
   "cell_type": "markdown",
   "metadata": {},
   "source": [
    "The following function assesses the quality of the heuristic approach."
   ]
  },
  {
   "cell_type": "code",
   "execution_count": 9,
   "metadata": {
    "collapsed": false
   },
   "outputs": [],
   "source": [
    "def solution_quality(rounded, optimal):\n",
    "    num_nodes = rounded.number_of_nodes() - rounded.number_of_edges()\n",
    "    return float(num_nodes) / optimal"
   ]
  },
  {
   "cell_type": "markdown",
   "metadata": {},
   "source": [
    "Let's check the quality of this approach compared to the optimal IP solutions."
   ]
  },
  {
   "cell_type": "code",
   "execution_count": 10,
   "metadata": {
    "collapsed": false
   },
   "outputs": [
    {
     "name": "stdout",
     "output_type": "stream",
     "text": [
      "Quality of karate rounded solution = 90%\n",
      "Quality of power rounded solution = 95%\n"
     ]
    }
   ],
   "source": [
    "karate_rounded = round_solution(karate_ind_set_relax, karate)\n",
    "karate_quality = solution_quality(karate_rounded, set_weight(karate_ind_set))\n",
    "print \"Quality of karate rounded solution = {:.0f}%\".format(karate_quality*100)\n",
    "\n",
    "power_rounded = round_solution(power_ind_set_relax, power)\n",
    "power_quality = solution_quality(power_rounded, set_weight(power_ind_set))\n",
    "print \"Quality of power rounded solution = {:.0f}%\".format(power_quality*100)"
   ]
  }
 ],
 "metadata": {
  "kernelspec": {
   "display_name": "Python 2",
   "language": "python",
   "name": "python2"
  },
  "language_info": {
   "codemirror_mode": {
    "name": "ipython",
    "version": 2
   },
   "file_extension": ".py",
   "mimetype": "text/x-python",
   "name": "python",
   "nbconvert_exporter": "python",
   "pygments_lexer": "ipython2",
   "version": "2.7.10"
  }
 },
 "nbformat": 4,
 "nbformat_minor": 0
}
