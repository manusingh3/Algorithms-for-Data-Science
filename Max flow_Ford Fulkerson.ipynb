{
 "cells": [
  {
   "cell_type": "markdown",
   "metadata": {},
   "source": [
    "# Max Flow Applications\n",
    "\n",
    "The purpose of this assignment is to investigate applications of finding a Max Flow. The problem asks you to design and implement an algorithm for shipping a material between nodes with different supply and demand requirements."
   ]
  },
  {
   "cell_type": "markdown",
   "metadata": {},
   "source": [
    "## Movie distribution\n",
    "\n",
    "First solve Problem 3 from HW3-theoretical. \n",
    "\n",
    "Now suppose a movie distributor would like to ship a copy of a film from CA to every other state. There are therefore 48 units to ship out of CA, and each other state receives 1 unit. \n",
    "\n",
    "The dataset contiguous-usa.dat lists the adjacent states in the US. Each line lists two adjacent states; thus AK and HI are omitted, but DC is included in the data. The following code reads in the graph of US states."
   ]
  },
  {
   "cell_type": "code",
   "execution_count": 1,
   "metadata": {
    "collapsed": true
   },
   "outputs": [],
   "source": [
    "import networkx as nx\n",
    "G = nx.Graph()\n",
    "\n",
    "usa = open('contiguous-usa.dat')\n",
    "for line in usa:\n",
    "    s1, s2 = line.strip().split()\n",
    "    G.add_edge(s1, s2)"
   ]
  },
  {
   "cell_type": "markdown",
   "metadata": {
    "collapsed": false
   },
   "source": [
    "We now encode the demands into the graph."
   ]
  },
  {
   "cell_type": "code",
   "execution_count": 2,
   "metadata": {
    "collapsed": true
   },
   "outputs": [],
   "source": [
    "for state in G.nodes():\n",
    "    if state != 'CA':\n",
    "        G.node[state]['demand'] = 1\n",
    "G.node['CA']['demand'] = -48"
   ]
  },
  {
   "cell_type": "markdown",
   "metadata": {
    "collapsed": false
   },
   "source": [
    "We will assign a uniform capacity of 16 to each edge. Since CA has only three adjacent states, this is the smallest possible uniform capacity that allows one to ship all 48 units out of CA. As we have created an undirected graph, and flows have directions, we first convert the graph to a directed graph."
   ]
  },
  {
   "cell_type": "code",
   "execution_count": 3,
   "metadata": {
    "collapsed": false
   },
   "outputs": [],
   "source": [
    "G = nx.DiGraph(G)\n",
    "uniform_capacity = 16\n",
    "for (s1, s2) in G.edges():\n",
    "    G.edge[s1][s2]['capacity'] = uniform_capacity"
   ]
  },
  {
   "cell_type": "markdown",
   "metadata": {},
   "source": [
    "Complete the following function to implement your algorithm to find a flow with demands. Your function should work correctly for any input, not just the movie instance considered here. As always, you are encouraged to define auxiliary functions as needed for clarity."
   ]
  },
  {
   "cell_type": "code",
   "execution_count": 4,
   "metadata": {
    "collapsed": false
   },
   "outputs": [],
   "source": [
    "def flow_with_demands(G):\n",
    "    global a\n",
    "    \n",
    "    G.add_nodes_from(['super_s', 'super_t'])\n",
    "    G.node['super_s']['demand']=0\n",
    "    G.node['super_t']['demand']=0\n",
    "    \n",
    "    \n",
    "    for state in G.nodes():\n",
    "        if G.node[state]['demand'] > 0:\n",
    "            G.add_edge(state, 'super_t')\n",
    "            G.edge[state]['super_t']['capacity'] = G.node[state]['demand']\n",
    "        elif G.node[state]['demand'] < 0:\n",
    "            G.add_edge('super_s', state)\n",
    "            G.edge['super_s'][state]['capacity'] = abs(G.node[state]['demand'])\n",
    "            \n",
    "    check=[]\n",
    "    chksum=0\n",
    "    for state in G.nodes():\n",
    "        check= (G.node[state]['demand'])\n",
    "        demandsum = dict([(state, check)])\n",
    "        chksum+=(demandsum[state])\n",
    "    \n",
    "    if chksum !=0 :\n",
    "        print \"NetworkX unfeasible, flow cannot exist\"\n",
    "            \n",
    "    import networkx as nx\n",
    "    from networkx.algorithms.flow import ford_fulkerson\n",
    "\n",
    "    a= ford_fulkerson(G, 'super_s','super_t')\n",
    "    #print a.graph['flow_value']\n",
    "    #print a.graph['flow_dict']\n",
    "\n",
    "    def flow(state1,state2):\n",
    "         \n",
    "             return a.graph['flow_dict'][state1][state2]\n",
    "        \n",
    "    \n",
    "    \n",
    "    pass"
   ]
  },
  {
   "cell_type": "markdown",
   "metadata": {},
   "source": [
    "To verify that your solution is correct, implement a function that computes the total flow into each node (which will be negative for supply nodes)."
   ]
  },
  {
   "cell_type": "code",
   "execution_count": 5,
   "metadata": {
    "collapsed": false
   },
   "outputs": [],
   "source": [
    "def divergence(flow):\n",
    "    dictsum=[]\n",
    "    for state in G.nodes():\n",
    "        inflow=sum(dict.values(a.graph['flow_dict'][state]))-((G.node[state]['demand']))\n",
    "        outflow=sum(dict.values(a.graph['flow_dict'][state]))\n",
    "        totalflow=outflow-inflow\n",
    "        dictsum = dict([(state, totalflow)])\n",
    "        #del dictsum['super_s']\n",
    "        #del dictsum['super_t']\n",
    "\n",
    "            \n",
    "    return dictsum\n",
    "\n",
    "    pass"
   ]
  },
  {
   "cell_type": "markdown",
   "metadata": {},
   "source": [
    "The following code performs a sanity check on your function (but does not completely confirm correctness)."
   ]
  },
  {
   "cell_type": "code",
   "execution_count": 6,
   "metadata": {
    "collapsed": false
   },
   "outputs": [
    {
     "name": "stdout",
     "output_type": "stream",
     "text": [
      "Flow satisfies all demands: True\n"
     ]
    }
   ],
   "source": [
    "flow = flow_with_demands(G)\n",
    "div = divergence(flow)\n",
    "print \"Flow satisfies all demands:\", all(div[state] == G.node[state]['demand'] for n in G.nodes())"
   ]
  },
  {
   "cell_type": "code",
   "execution_count": null,
   "metadata": {
    "collapsed": true
   },
   "outputs": [],
   "source": []
  }
 ],
 "metadata": {
  "kernelspec": {
   "display_name": "Python 2",
   "language": "python",
   "name": "python2"
  },
  "language_info": {
   "codemirror_mode": {
    "name": "ipython",
    "version": 2
   },
   "file_extension": ".py",
   "mimetype": "text/x-python",
   "name": "python",
   "nbconvert_exporter": "python",
   "pygments_lexer": "ipython2",
   "version": "2.7.10"
  }
 },
 "nbformat": 4,
 "nbformat_minor": 0
}
